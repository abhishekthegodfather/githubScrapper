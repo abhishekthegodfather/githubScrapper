{
 "cells": [
  {
   "cell_type": "code",
   "execution_count": 60,
   "id": "9f96bcf5",
   "metadata": {},
   "outputs": [],
   "source": [
    "from selenium import webdriver\n",
    "from selenium.webdriver.common.by import By\n",
    "from selenium.webdriver.common.keys import Keys\n",
    "import pandas as pd"
   ]
  },
  {
   "cell_type": "code",
   "execution_count": 74,
   "id": "47ebf48a",
   "metadata": {},
   "outputs": [
    {
     "name": "stderr",
     "output_type": "stream",
     "text": [
      "C:\\Users\\abhis\\AppData\\Local\\Temp/ipykernel_31228/1699513341.py:1: DeprecationWarning: executable_path has been deprecated, please pass in a Service object\n",
      "  driver = webdriver.Firefox(executable_path=r'C:\\Users\\abhis\\OneDrive\\Desktop\\scrapping_python\\linkedin_scarp\\geckodriver.exe')\n"
     ]
    }
   ],
   "source": [
    "driver = webdriver.Firefox(executable_path=r'C:\\Users\\abhis\\OneDrive\\Desktop\\scrapping_python\\linkedin_scarp\\geckodriver.exe')\n",
    "# driver.get('https://github.com/topics')\n",
    "# driver.get('https://github.com/topics/nim')\n",
    "driver.get('https://github.com/zedeus/nitter/issues')"
   ]
  },
  {
   "cell_type": "code",
   "execution_count": 18,
   "id": "c27d2248",
   "metadata": {},
   "outputs": [
    {
     "name": "stdout",
     "output_type": "stream",
     "text": [
      "['Nim', 'Raspberry Pi', 'Xamarin']\n"
     ]
    }
   ],
   "source": [
    "lang = driver.find_elements(By.CSS_SELECTOR, \"a>p.lh-condensed.text-center\")\n",
    "langArr = []\n",
    "for i in lang:\n",
    "    i = i.text\n",
    "    langArr.append(i)\n",
    "print(langArr)"
   ]
  },
  {
   "cell_type": "code",
   "execution_count": 20,
   "id": "1ae1c17b",
   "metadata": {},
   "outputs": [
    {
     "name": "stdout",
     "output_type": "stream",
     "text": [
      "['Nim is a statically typed, compiled, garbage-collected systems programming language.', 'The Raspberry Pi is a popular single-board computer.', 'Xamarin is a platform for developing iOS and Android applications.']\n"
     ]
    }
   ],
   "source": [
    "langCon = driver.find_elements(By.CSS_SELECTOR, \"a>p.color-fg-muted.text-center\")\n",
    "langConArr = []\n",
    "for i in langCon:\n",
    "    i = i.text\n",
    "    langConArr.append(i)\n",
    "print(langConArr)"
   ]
  },
  {
   "cell_type": "code",
   "execution_count": 29,
   "id": "31a4c560",
   "metadata": {},
   "outputs": [
    {
     "name": "stdout",
     "output_type": "stream",
     "text": [
      "['https://github.com/topics/nim', 'https://github.com/topics/raspberry-pi', 'https://github.com/topics/xamarin']\n"
     ]
    }
   ],
   "source": [
    "langlinks = driver.find_elements(By.CSS_SELECTOR, \"a.no-underline.d-flex.flex-column.flex-justify-center\")\n",
    "langlinksArr = []\n",
    "for i in langlinks:\n",
    "    i = i.get_attribute('href')\n",
    "    langlinksArr.append(i)\n",
    "print(langConArr)"
   ]
  },
  {
   "cell_type": "code",
   "execution_count": 30,
   "id": "138c0135",
   "metadata": {},
   "outputs": [],
   "source": [
    "lang_dict = {\n",
    "    \"Langauge\" : langArr,\n",
    "    \"Short Description\" : langConArr,\n",
    "    \"Langauge Topic Links\" : langlinksArr\n",
    "}\n",
    "\n",
    "data = pd.DataFrame(lang_dict)\n",
    "data.to_csv(\"Github_Topics.csv\")"
   ]
  },
  {
   "cell_type": "code",
   "execution_count": 34,
   "id": "59ee8098",
   "metadata": {},
   "outputs": [
    {
     "name": "stdout",
     "output_type": "stream",
     "text": [
      "['nim-lang / Nim', 'zedeus / nitter', 'kaitai-io / kaitai_struct', 'Dav1dde / glad', 'nim-lang / nimble', 'mratsim / Arraymancer', 'planety / prologue', 'yglukhov / nimx', 'nim-lang / nimforum', 'VPashkov / awesome-nim', 'Pebaz / nimporter', 'simonkrauter / NiGui', 'codic12 / worm', 'inim-repl / INim', 'aduros / wasm4', 'arnetheduck / nlvm', 'dom96 / choosenim', 'frol / completely-unscientific-benchmarks', 'brentp / mosdepth', 'status-im / nimbus-eth1', 'ftsf / nico', 'aeverj / NimShellCodeLoader', 'pragmagic / godot-nim', 'xflywind / awesome-nim', 'sinkingsugar / nimtorch', 'adeemm / WinAPI-Fun', 'fox0430 / moe', 'calebwin / pipelines', 'nim-lang / packages', 'nimterop / nimterop']\n"
     ]
    }
   ],
   "source": [
    "repos = driver.find_elements(By.CSS_SELECTOR, \"h3.f3.color-fg-muted.text-normal.lh-condensed\")\n",
    "reposArr = []\n",
    "for i in repos:\n",
    "    i = i.text\n",
    "    reposArr.append(i)\n",
    "print(reposArr)"
   ]
  },
  {
   "cell_type": "code",
   "execution_count": 37,
   "id": "f3ec4c41",
   "metadata": {},
   "outputs": [
    {
     "name": "stdout",
     "output_type": "stream",
     "text": [
      "['13.3k', '5.1k', '3.1k', '2.6k', '1k', '955', '927', '878', '681', '626', '638', '555', '554', '522', '507', '497', '496', '491', '489', '456', '444', '413', '414', '389', '378', '380', '381', '367', '346', '305']\n"
     ]
    }
   ],
   "source": [
    "star = driver.find_elements(By.CSS_SELECTOR, \"span#repo-stars-counter-star\")\n",
    "starArr = []\n",
    "for i in star:\n",
    "    i = i.text\n",
    "    starArr.append(i)\n",
    "print(starArr)"
   ]
  },
  {
   "cell_type": "code",
   "execution_count": 78,
   "id": "8055d09e",
   "metadata": {},
   "outputs": [
    {
     "name": "stdout",
     "output_type": "stream",
     "text": [
      "['https://github.com/zedeus/nitter', 'https://github.com/zedeus/nitter/issues', 'https://github.com/zedeus/nitter/pulls', 'https://github.com/zedeus/nitter/actions', 'https://github.com/zedeus/nitter/wiki', 'https://github.com/zedeus/nitter/security', 'https://github.com/zedeus/nitter/pulse']\n"
     ]
    }
   ],
   "source": [
    "findLink = driver.find_elements(By.CSS_SELECTOR, \"li.d-inline-flex>a\")\n",
    "findLinkArr = []\n",
    "for i in findLink:\n",
    "    i = i.get_attribute('href')\n",
    "    findLinkArr.append(i)\n",
    "print(findLinkArr)"
   ]
  },
  {
   "cell_type": "code",
   "execution_count": 73,
   "id": "da2a8683",
   "metadata": {},
   "outputs": [
    {
     "name": "stdout",
     "output_type": "stream",
     "text": [
      "['https://github.com/nim-lang/Nim/issues', 'https://github.com/zedeus/nitter/issues', 'https://github.com/kaitai-io/kaitai_struct/issues', 'https://github.com/Dav1dde/glad/issues', 'https://github.com/nim-lang/nimble/issues', 'https://github.com/mratsim/Arraymancer/issues', 'https://github.com/planety/prologue/issues', 'https://github.com/yglukhov/nimx/issues', 'https://github.com/nim-lang/nimforum/issues', 'https://github.com/VPashkov/awesome-nim/issues', 'https://github.com/Pebaz/nimporter/issues', 'https://github.com/simonkrauter/NiGui/issues', 'https://github.com/codic12/worm/issues', 'https://github.com/inim-repl/INim/issues', 'https://github.com/aduros/wasm4/issues', 'https://github.com/arnetheduck/nlvm/issues', 'https://github.com/dom96/choosenim/issues', 'https://github.com/frol/completely-unscientific-benchmarks/issues', 'https://github.com/brentp/mosdepth/issues', 'https://github.com/status-im/nimbus-eth1/issues', 'https://github.com/ftsf/nico/issues', 'https://github.com/aeverj/NimShellCodeLoader/issues', 'https://github.com/pragmagic/godot-nim/issues', 'https://github.com/xflywind/awesome-nim/issues', 'https://github.com/sinkingsugar/nimtorch/issues', 'https://github.com/adeemm/WinAPI-Fun/issues', 'https://github.com/fox0430/moe/issues', 'https://github.com/calebwin/pipelines/issues', 'https://github.com/nim-lang/packages/issues', 'https://github.com/nimterop/nimterop/issues']\n"
     ]
    }
   ],
   "source": [
    "arr = []\n",
    "for i in findLinkArr:\n",
    "    urlP = urlparse(i)\n",
    "    arr.append(urlP.path)\n",
    "# print(arr)\n",
    "arr2 = []\n",
    "for i in arr:\n",
    "    if i.find('/issue') != -1:\n",
    "        arr2.append(\"https://github.com\"+str(i))\n",
    "print(arr2)"
   ]
  },
  {
   "cell_type": "code",
   "execution_count": 82,
   "id": "9ec7e9be",
   "metadata": {},
   "outputs": [
    {
     "name": "stdout",
     "output_type": "stream",
     "text": [
      "['In mobile view, profile display overlap if username too long.', 'Difficulties with text selection on iOS due to CSS', 'Support infinite scroll for earlier replies', '[Request] Include the tweet being replied to', 'Add option to disable threading', 'RSS - Pagination', 'Loop Videos', 'Twitter Notes', 'Add reply/retweet redirect buttons in tweet dropdowns', 'Support supplying config variables through means other than the main config file', '[Feature Request] Add \"You might like\"', '[Feature Request] New URL format', \"don't require HLS playback: mp4 for all videos\", 'Auto scroll broken', 'Accept micro-donations through Zink', 'Feature Request: Dual Pane or Tiled Layout on Base Feed (To save wasted space)', 'Relying on \"Request archive.\" as source in order to have a local partial mirror', 'Show reason why a tweet is unavailable', 'Sanitize RSS Feed names To Remove Slashes', 'Nitter page load crashes with error \"Can\\'t parse enum. At offset: 4118\" when handling Twitter 3D models', 'Crash - ERROR jsony.nim(98) parseHook', '[Feature Request] Preference to keep profile on top regardless of screen width', 'Dynamic blockquote.twitter-tweet embeds', 'Video embeds', 'Option to use Tor onion address instead of twitter.com']\n"
     ]
    }
   ],
   "source": [
    "sam = driver.find_elements(By.CSS_SELECTOR, \"a.Link--primary.v-align-middle\")\n",
    "findLinkArr = []\n",
    "for i in sam:\n",
    "    i = i.text\n",
    "    findLinkArr.append(i)\n",
    "print(findLinkArr)"
   ]
  },
  {
   "cell_type": "code",
   "execution_count": null,
   "id": "ed32ec4b",
   "metadata": {},
   "outputs": [],
   "source": []
  }
 ],
 "metadata": {
  "kernelspec": {
   "display_name": "Python 3 (ipykernel)",
   "language": "python",
   "name": "python3"
  },
  "language_info": {
   "codemirror_mode": {
    "name": "ipython",
    "version": 3
   },
   "file_extension": ".py",
   "mimetype": "text/x-python",
   "name": "python",
   "nbconvert_exporter": "python",
   "pygments_lexer": "ipython3",
   "version": "3.9.7"
  }
 },
 "nbformat": 4,
 "nbformat_minor": 5
}
