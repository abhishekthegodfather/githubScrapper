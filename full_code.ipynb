{
 "cells": [
  {
   "cell_type": "code",
   "execution_count": 2,
   "id": "a91f4e97",
   "metadata": {},
   "outputs": [],
   "source": [
    "from selenium import webdriver\n",
    "from selenium.webdriver.common.by import By\n",
    "from selenium.webdriver.common.keys import Keys\n",
    "from urllib.parse import urlparse\n",
    "import pandas as pd\n",
    "import time"
   ]
  },
  {
   "cell_type": "code",
   "execution_count": 6,
   "id": "a74c039a",
   "metadata": {},
   "outputs": [
    {
     "name": "stderr",
     "output_type": "stream",
     "text": [
      "C:\\Users\\abhis\\AppData\\Local\\Temp/ipykernel_1688/185436768.py:1: DeprecationWarning: executable_path has been deprecated, please pass in a Service object\n",
      "  driver = webdriver.Firefox(executable_path=r'C:\\Users\\abhis\\OneDrive\\Desktop\\scrapping_python\\linkedin_scarp\\geckodriver.exe')\n"
     ]
    },
    {
     "name": "stdout",
     "output_type": "stream",
     "text": [
      "['.NET', 'Kotlin', 'Terraform']\n",
      "['.NET is a free, cross-platform, open source developer platform.', 'Kotlin is a statically typed programming language for multiplatform applications.', 'An infrastructure-as-code tool for building, changing, and versioning infrastructure safely and efficiently.']\n",
      "['.NET is a free, cross-platform, open source developer platform.', 'Kotlin is a statically typed programming language for multiplatform applications.', 'An infrastructure-as-code tool for building, changing, and versioning infrastructure safely and efficiently.']\n"
     ]
    }
   ],
   "source": [
    "driver = webdriver.Firefox(executable_path=r'C:\\Users\\abhis\\OneDrive\\Desktop\\scrapping_python\\linkedin_scarp\\geckodriver.exe')\n",
    "driver.get('https://github.com/topics')\n",
    "\n",
    "time.sleep(10)\n",
    "lang = driver.find_elements(By.CSS_SELECTOR, \"a>p.lh-condensed.text-center\")\n",
    "langArr = []\n",
    "for i in lang:\n",
    "    i = i.text\n",
    "    langArr.append(i)\n",
    "print(langArr)\n",
    "\n",
    "time.sleep(10)\n",
    "langCon = driver.find_elements(By.CSS_SELECTOR, \"a>p.color-fg-muted.text-center\")\n",
    "langConArr = []\n",
    "for i in langCon:\n",
    "    i = i.text\n",
    "    langConArr.append(i)\n",
    "print(langConArr)\n",
    "\n",
    "time.sleep(10)\n",
    "langlinks = driver.find_elements(By.CSS_SELECTOR, \"a.no-underline.d-flex.flex-column.flex-justify-center\")\n",
    "langlinksArr = []\n",
    "for i in langlinks:\n",
    "    i = i.get_attribute('href')\n",
    "    langlinksArr.append(i)\n",
    "print(langConArr)\n",
    "\n",
    "lang_dict = {\n",
    "    \"Langauge\" : langArr,\n",
    "    \"Short Description\" : langConArr,\n",
    "    \"Langauge Topic Links\" : langlinksArr\n",
    "}\n",
    "\n",
    "data = pd.DataFrame(lang_dict)\n",
    "data.to_csv(\"Github_Topics.csv\")"
   ]
  },
  {
   "cell_type": "markdown",
   "id": "3b29e864",
   "metadata": {},
   "source": [
    "# ISSUE FINDING"
   ]
  },
  {
   "cell_type": "code",
   "execution_count": 21,
   "id": "78fb8692",
   "metadata": {},
   "outputs": [],
   "source": [
    "def issue(url):\n",
    "    driver = webdriver.Firefox(executable_path=r'C:\\Users\\abhis\\OneDrive\\Desktop\\scrapping_python\\linkedin_scarp\\geckodriver.exe')\n",
    "    driver.get(url)\n",
    "    \n",
    "    time.sleep(10)\n",
    "    repos = driver.find_elements(By.CSS_SELECTOR, \"h3.f3.color-fg-muted.text-normal.lh-condensed\")\n",
    "    reposArr = []\n",
    "    for i in repos:\n",
    "        i = i.text\n",
    "        reposArr.append(i)\n",
    "#     print(reposArr)\n",
    "    \n",
    "    time.sleep(10)\n",
    "    star = driver.find_elements(By.CSS_SELECTOR, \"span#repo-stars-counter-star\")\n",
    "    starArr = []\n",
    "    for i in star:\n",
    "        i = i.text\n",
    "        starArr.append(i)\n",
    "#     print(starArr)\n",
    "    \n",
    "    dict1 = {\n",
    "        \"Repositories\" : reposArr,\n",
    "        \"stars\" : starArr\n",
    "    }\n",
    "    \n",
    "    data1 = pd.DataFrame(dict1)\n",
    "    data1.to_csv('Repos.csv')\n",
    "    \n",
    "    findLink = driver.find_elements(By.CSS_SELECTOR, \"li.d-inline-flex>a\")\n",
    "    findLinkArr = []\n",
    "    for i in findLink:\n",
    "        i = i.get_attribute('href')\n",
    "        findLinkArr.append(i)\n",
    "#     print(findLinkArr)\n",
    "    \n",
    "    arr = []\n",
    "    for i in findLinkArr:\n",
    "        urlP = urlparse(i)\n",
    "        arr.append(urlP.path)\n",
    "    # print(arr)\n",
    "    arr2 = []\n",
    "    for i in arr:\n",
    "        if i.find('/issue') != -1:\n",
    "            arr2.append(\"https://github.com\"+str(i))\n",
    "    print(arr2)\n",
    "    \n",
    "    for i in arr2:\n",
    "        issue_finder(i)"
   ]
  },
  {
   "cell_type": "code",
   "execution_count": 22,
   "id": "7e96afde",
   "metadata": {},
   "outputs": [],
   "source": [
    "def issue_finder(url):\n",
    "    driver = webdriver.Firefox(executable_path=r'C:\\Users\\abhis\\OneDrive\\Desktop\\scrapping_python\\linkedin_scarp\\geckodriver.exe')\n",
    "    driver.get(url)\n",
    "    sam = driver.find_elements(By.CSS_SELECTOR, \"a.Link--primary.v-align-middle\")\n",
    "    findLinkArr = []\n",
    "    for i in sam:\n",
    "        i = i.text\n",
    "        findLinkArr.append(i)\n",
    "    print(findLinkArr)\n",
    "    \n",
    "#     str2 = \"\"\n",
    "#     for i in findLinkArr:\n",
    "#         str2 += i+\"\\n\"\n",
    "#     with open('issue.txt', 'a') as file:\n",
    "#         file.write(str2)"
   ]
  },
  {
   "cell_type": "code",
   "execution_count": 23,
   "id": "48560966",
   "metadata": {},
   "outputs": [
    {
     "name": "stderr",
     "output_type": "stream",
     "text": [
      "C:\\Users\\abhis\\AppData\\Local\\Temp/ipykernel_1688/2632839782.py:2: DeprecationWarning: executable_path has been deprecated, please pass in a Service object\n",
      "  driver = webdriver.Firefox(executable_path=r'C:\\Users\\abhis\\OneDrive\\Desktop\\scrapping_python\\linkedin_scarp\\geckodriver.exe')\n"
     ]
    },
    {
     "name": "stdout",
     "output_type": "stream",
     "text": [
      "['https://github.com/dotnet/aspnetcore/issues', 'https://github.com/SeleniumHQ/selenium/issues', 'https://github.com/files-community/Files/issues', 'https://github.com/dotnet/corefx/issues', 'https://github.com/dotnet/core/issues', 'https://github.com/dotnet/maui/issues', 'https://github.com/jellyfin/jellyfin/issues', 'https://github.com/icsharpcode/ILSpy/issues', 'https://github.com/quozd/awesome-dotnet/issues', 'https://github.com/microsoft/react-native-windows/issues', 'https://github.com/AvaloniaUI/Avalonia/issues', 'https://github.com/pulumi/pulumi/issues', 'https://github.com/dotnet/coreclr/issues', 'https://github.com/Ryujinx/Ryujinx/issues', 'https://github.com/MoienTajik/AspNetCore-Developer-Roadmap/issues', 'https://github.com/OpenRA/OpenRA/issues', 'https://github.com/docker/labs/issues', 'https://github.com/App-vNext/Polly/issues', 'https://github.com/ardalis/CleanArchitecture/issues', 'https://github.com/aspnetboilerplate/aspnetboilerplate/issues', 'https://github.com/bitwarden/server/issues', 'https://github.com/mono/mono/issues', 'https://github.com/jasontaylordev/CleanArchitecture/issues', 'https://github.com/BeyondDimension/SteamTools/issues', 'https://github.com/IdentityServer/IdentityServer4/issues', 'https://github.com/dotnet/orleans/issues', 'https://github.com/MonoGame/MonoGame/issues', 'https://github.com/JustArchiNET/ArchiSteamFarm/issues', 'https://github.com/dotnet/machinelearning/issues', 'https://github.com/dotnet/BenchmarkDotNet/issues']\n",
      "['user-jwts prints error message on path1', 'Custom naming when binding nested objects as properties of a model', 'Performance optimizations for streams now that the WebTransport PR introduced new stream types', 'WebTransport PR follow-ups', 'Adjusting the default Kestrel development certificate to support WebTransport', 'Adding more tests to WebTransport', 'Implementing WebTransport over HTTP/2', 'Adding datagrams support to WebTransport', \"Connection disconnected with error 'Error: Server timeout elapsed without receiving a message from the server.'.\", 'Disable Tracing in production', 'Microsoft.AspNetCore.Mvc.Testing failed to build with error MSB4186', 'Skipped internal properties on InvokeAsync<T> calls', 'dotnet watch run --no-hot-reload still reloads some files', 'DataAnnotations Localization does not localize the pre-formatted validation error messages', 'ASP.Net Hosting Bundle Installer Has Issues In Some Situations', 'Add DefaultCloseErrorCode and DefaultStreamErrorCode to QuicTransportOptions', 'Revise RenderTreeBuilderAnalyzer requirement to force \"literal\" sequence parameters', 'App fails to process request and returns 503/404 when URL has more than 1 slash', 'OpenAPI convention on route group cannot examine endpoint-specific metadata', 'Provide access to configuring the SecurityStampValidator from IdentityBuilder', 'Error adding Azure AD auth to Blazor Server app', 'Microsoft Default Blazor WASM app not launched in Https configuration', 'Multiple ASP.NET Core OAuth Correlation cookies', 'QuickGrid: QuickGridItemsProvider naming suggestion', 'Enable BindNever or BindingBehavior(BindingBehavior.Never) for Blazor WebAssembly Shared Project(Model)']\n",
      "['[🐛 Bug]: Build WebDriver with authenticated Proxy not working', '[🚀 Feature]: Get download percentage', \"[🐛 Bug]: Can't compile wait.until(ExpectedCondition) method\", '[🚀 Feature]: Provide end to end Observability on Selenium via agent automatically', '[🚀 Feature]: Support Select Lists in Javascript', '[🐛 Bug]: MaxListenersExceededWarning using --parallel', '[🐛 Bug]: release selenium-java-4.3.0.zip contains duplicate files', '[🐛 Bug]: Error handling in Java e.g. SessionNotCreatedException/UnreachableBrowserException caused by Error', '[🚀 Feature]: Subpath parameter for subpath ingress configurations', '[🚀 Feature]: Revisiting strong-named assemblies for NuGet (.NET Core/.NET)', '[🐛 Bug]: [Python] [Firefox] install_addon polluting /tmp', '[🐛 Bug]: Opera Browser in Selenium 4 Usage', '[🐛 Bug]: InvalidSelectorException is handled differently in Java & C# / Python bindings', '[🐛 Bug]: Using HasAuthentication with Augmenter throws ClassCastException', '[🚀 Feature]: Send delete to geckodriver on timeout', '[🐛 Bug]: Trying to launch Firefox webdriver', '[🚀 Feature]: Methods Select.select*() should NOT allow selecting DISABLED option (or select)', '[🚀 Feature]: Implement Touch specific functionality in actions', '[🐛 Bug]: devtools.debugger.enable() causes exception', '[🐛 Bug]: Codecov python code summary is consistently not working', '[🚀 Feature]: Make --distributor-implementation and --grid-model available for \"Hub\" mode', '[🐛 Bug]: CI executes pytest using 3.8.10 in ubuntu.', '[🐛 Bug]: Unable to cast object String to Boolean in WebElement.Displayed', '[🐛 Bug]: [Python] WebDriver constructor must not assume that BaseOptions instance has _ignore_local_proxy property', '[🚀 Feature]: deno support']\n",
      "['Reverse Folder Sorting in Individual Folder', \"QuickLook doesn't work in 2.3.3.0\", 'Window Goes Blank If the Network Folder is Still Loading', \"Sometimes files copying to RDP session doesn't work\", 'Problem creating files when typing the name in Chinese', 'Recycle bin has missing infomation', 'Recycle bin restore option is missing', 'Show the user files and processes preventing removable drive ejection', 'Feature: Add support for key remapping', 'Make manually resized column widths stick in Details view', \"'New' => 'Text Document' option is missing\", 'Feature: Add chevron to folders in column layout', 'Window stays focussed after opening certain files', 'SMB network share: Can see folders, but no files.', 'App crashed while extracting100 images a folder', 'Feature: Group Header Checkbox', 'stl,gx and other 3d file extentions', 'Files allowing forbidden file/folder names (CON, NUL, etc)', 'When deleting only file of this day in downloads there remains tag saying Today 0 item', 'Conflicts Dialog not open and works and Google Drive not shown in Cloud Drives', 'when you open a folder - it shows as empty for 15seconds', 'New Pane\\'s \"Alt+Shift++\" shortcut only works with Numpad Plus key', 'Status of the Onedrive cloud folders is wrong', '[Feature Request] Compact styles for the context menu.', 'Ctrl + Enter shortcut to open selected folder in a new tab']\n",
      "['[release/3.1] Add missing Oracle RIDs', '[Release 3.1] | Address Shim gss api on Linux to delay loading libgssapi_krb5.so while using Net6', '[release/3.1] Fix build clang10', '[release/3.1] Update dependencies from dotnet/arcade', '[release/3.1] Fix building with clang 13', '[release/3.1] Remove the use of dotnet-core']\n",
      "['.net', 'I just want obs to show my chat over gameplay so I can read more conveniently. I dont know about all this', 'run error', 'Ned help', 'PK5', 'Use recommended storage locations for app and user data', 'Feature Request: Ability to import implicit usings from a ProjectReference', \"(BadRequest) The VM size of AgentPoolProfile:nodepool1 is not allowed in your subscription in location 'westus'. For more details, please visit https://aka.ms/aks/quotas-skus-regions\", '.NET 7.0 Preview 6', '.NET July 2022 Updates - .NET 6.0.7, .NET Core 3.1.27', 'i just installed the .NET 6.0 and follow the tutorial then this happened', 'Create Docker image', 'zsh: permission denied: dotnet', 'Unhandled exception in XAML viewer when the project is in a path with private characters', 'Solution for FTP with HttpClient?', \"unhandled exception: system.io.fileNoteFountException: could not load file or assembly 'system.runtime, version=6.0.0.0, culture=neutral, publicKeyToken=', or one of its dependecies\", 'Ubuntu 20.04 not letting install SDK 6', 'Ubuntu 21.10 reaches end of life on Jul 14, 2022', '.NET installation issue', 'Should runtime. packages be listed in NuGet.org?', 'Proposed .NET 8 Breaking Changes', '.NET 8 Pre-planning', 'dotnet/announcements best practices', '.NET support for Windows 7 and 8.1 will end in January 2023', 'releases.json Breaking Change']\n",
      "['ScrollView and VerticalStackLayout do not resize themselves on iOS', 'If the user hasn\\'t specified a VSM then look at ways to only apply color changes to the \"normal\" state of a control', 'ILogger.LogDebug does not output anything', 'Issue with AndExpandLayoutManager in converted application', 'Why Error compiling Android/Windows (Release) Debug Model Compiling NoError', 'CarouselView inside of one of DataTemplates in DataTemplateSelector results in random DataTemplates in Windows', 'ImageSource FromFile Android internal bug?', 'Frame inside CollectionView unable to be selected in Android', 'DataTemplateSelector in CollectionView does not size/measure items properly', 'support linux and Android', 'UI Automation hit testing on CollectionView items hangs Maui app', 'Auto Update MAUI App', \"Can't find global resource dictionary\", 'What is an analog of NamedSize for MAUI fonts?', 'Path Shadow Not Working Consistently on Windows', \"SelectionChangedCommand from CollectionView doesn't work\", 'Shell Tab is still visible after set Tab.IsVisible to false', \"Image Source to null doesn't work if the Source had a different value before\", 'TabBar control does not function normally in IOS. But it works fine on Android.', 'Grid.Position Property', 'ActivityIndicator is not running second time navigating to page when page is singleton', 'Add Generic Lifecycle Events', 'Publish Device Runners', 'Contentpage is cut off in iOS', 'ContextActions completely inaccessible for blind users on iOS']\n"
     ]
    },
    {
     "name": "stdout",
     "output_type": "stream",
     "text": [
      "['[ISSUE] Guide does not order digital subchannels correctly when 10 or more subchannels are present', 'Support for Almalinux 8, 9 and RockyLinux', '[Issue]: Images not being replaced or added after using Identify > Search > Replace existing images', '[Issue]:', 'The audio codec is not supported - chromecast ultra', '[Issue]: Audiobooks with library type Books not showing in Continue Listening section', '[Issue]: Jellyfin 10.8.1 not working with SELinux on Rocky Linux 8.6', \"[Issue]: DLNA doesn't work on Samsung Q80AA 65 TV - QE65Q80AATXZT\", \"[Issue]: Live TV Recording - Interrupted stream doesn't end recording\", '[Issue]: If a folder contains a single video as well as child folders, only the one video can be played', '[Issue]: Displaying actor photos with local metadata', 'Works fine before update \"Playback Error\" 8.1 Update - Broken Server', '[Issue]: 848x480 16:9 video reported as 540p', '[Issue]: [Intermittent] [10.8.1] Libraries are being deleted with Scheduled Scan', '[Issue]: Episode titles being truncated incorrectly', '[Issue]: Unexpected IO load during startup', '[Issue]: 点击演员图片后不显示该演员演的电影。', '[Issue]: Duplicate config folders causing duplicate in library', 'multi-part movies can not switch to next part', \"If av1 forced to be transcoded in browser, it doesn't use both HW and Tone-mapping. It also uses vp8 and not h.264\", '[Issue]: Metada refresh for music library proceeds very slow and constantly returns errors', '[Issue]: Throttle Transcodes stopps transcoding completely after slowing it down first (for resumed playbacks)', \"[Issue]: Can't uninstall plugin with different versions in assembly and manifest\", '[Issue]: Collections ProductionYear based on oldest movie in collection instead of newest', '[bug] No audio when skip forward']\n",
      "['Nullable Attributes No Longer Decompiling Right', 'Search panel always show Assembly Icon', 'Latest ILSpy produce dup names', 'Write Tests for ref fields in ref structs feature', 'Can not reload correctly when running multiple instances', 'Ability to filter assemblies list panel', 'Issues of ResXResourceWriter', 'ILSpy decides to fully qualify type name when it is not necessary', 'Assert at ICSharpCode.Decompiler.IL.ControlFlow.YieldReturnDecompiler.ReconstructTryFinallyBlocks(ILFunction iteratorFunction) in YieldReturnDecompiler.cs:line 1163', 'Central Package Management to replace packages.prop', 'XML documentation issues with C++/CLI code which uses \"const\"', 'Decompiler: consider MathF constants', 'Attributes sorting order', 'Search Box Tooltip Improvements', \"This e doesn't know which object is referenced\", 'Used by for Assemblies', 'Force keyboard focus on the TextEditor control in DecompilerTextView', 'Add benchmarks and include them in CI', 'Pointer increments and compund assignements not always decompiled in a \"pretty\" way.', 'Improve pattern match for generic', 'Visual Studio WinForms designer unable to display forms exported from VB.NET assembly', 'Request for advice in decompiling older Mono assemblies', 'Add Support to export Avalonia UI axaml file', 'Improve search and analyze', 'Support for for null-coalescing assignment (??=, C# 8)']\n",
      "['add github links']\n",
      "['Focus ring is displayed even for programmatic focus', 'NU1101: Unable to find package boost (with GitLab)', 'Narrator not announcing TouchableOpacity and TouchableHighlight components when they have borderRadius in style', 'winrt/Microsoft.ReactNative.h no such file', 'Bundles generated offline do not start running the RN app when executed', \"Pressable component's 'onPress' doesn't work on scan mode\", 'UISettings TextScaleFactor change should trigger a re-layout', 'RNW instances using Hermes should support direct debugging in release builds', \"duplicate 'global::System.Runtime.Versioning.TargetFrameworkAttribute' when launching run-windows\", 'Getting Error \" The target \"MarkupCompilePass1\" does not exist in the project\"', 'Project Microsoft.ReactNative is not compatible with uap10.0.16299 problem', 'Support react-native-app-auth', '0.70 Release Status', 'Component Governance will be unable to detect the hermes dependency in RN', 'Component Governance for RNW apps might not detect components from build-time cgmanifest.json files', 'Remove assumptions that XamlRoot::Content() matches Window size', 'Crash when hovering over a Switch component in high contrast mode', 'Allow custom pointer event handling to conditionally cancel gestures', 'Add Agent ES scan for UES policy violations', 'Add CodeQL to the compliance pipeline', 'Remove fork of CompactValue.h from ReactCommon', 'Build initial reports / dashboards using available RNW telemetry', 'Create initial Kusto queries to extract raw CLI telemetry data', 'Set up ApplicationInsights back-end for CLI telemetry', 'Enable telemetry with correct setup string by connecting to the backend']\n",
      "['AvaloniaProperty inside UserControl works for static values but not for data bound values', 'DBus file dialogs crash the application if', \"ICustomHitTest and ICustomSimpleHitTest are using parent's coordinate space\", 'LibInputBackend failed to initialise when minimal linux boot with no input', 'Composition Renderer does not handle dirty rects correctly', 'SystemTray issue in Linux', 'Bang Operator Non-Functional in ControlTemplate', 'The app crashes when we resize it while it renders an image', 'Best way to render 3D', 'Blur and AcrylicBlur are not working on windows 11 after 0.10.11 release', 'ListBox with images using Simple virtualization : autoscroll issue and smooth scrolling missing', 'ArgumentNullException in Avalonia.Rendering.SceneGraph.SceneBuilder.Update', 'ListBox selection using keyboard with Ctrl and arrow keys', 'Perf: Create custom INotifyCollectionChanged interface', 'Cannot Catch Exceptions with RxApp.DefaultExceptionHandler', 'Issue with special characters and TextBox', 'Color spaces are not considered', 'WriteableBitmap CreateScaledBitmap method throws error', 'Managed System Dialog crash with System.UnauthorizedAccessException, again', 'Update behavior for ComboBox Items property is not consistent', 'Windows: bogus font size on first rendered control', 'BeginResizeDrag/BeginMoveDrag API problems', 'Api request: DataTemplateInclude', 'Window transparency on MacOS in version 0.10.15', 'Introduce DispatcherUnhandledException']\n",
      "['Creating Configmap via Pulumi throws an invalid apiversion error', 'pulumi up diagnostics are out of order', 'Allow mocking of inline Pulumi resources in Automation API', 'Go: Expose context.Context from pulumi.Context via getter method', 'group pulumi help subcommands based on use-case', 'Pulumi deletes resources if update of a predecessor resource fails', 'Error handling in pulumi code.', 'Adding API links to error messages', 'GitHub authentication headers can leak to logs', 'Ability to bridge config with the local environment', 'Dotnet Program Crashes w/ Unused ImmutableArray<T> Output Types', 'Update how naming is done across providers', 'Add tests for \"strange\" resource/stack/project names', 'Use local provider in examples', 'Dotnet SDK-gen should allow ResourceArgsType.Empty to be used where ResourceArgsType is expected', 'Dotnet program-gen should simplify MyStack.cs into just Program.cs using .NET 6 top-level statements', 'Dotnet program-gen should output less noisy dictionaries using property initializers', 'clarify what program and working directory pulumi is using', 'pulumi new --help output is large', 'Dotnet program-gen should emit output-versioned function invokes', 'PATH environment variable is reset to \"venv\\\\Scripts\" in python programs on Windows', 'improve presentation of errors', 'Prevent data races from being released', 'Reduce PR blocking and keep trunk green with merge queues', 'make new features/changelog more visible to users']\n",
      "['Update the package verification to the newest version', '[release/3.1] backports dotnet#67763: fix build with musl 1.2.3', '[release/3.1] Update dependencies from dotnet/arcade', 'Handle case where shutdown deadlocks on m_lock']\n",
      "['Unable to open Ryujinx window on Linux (Avalonia UI)', \"Sid Meier's Civilization VI [010044500C182000]: Missing graphics (2D and 3D)\", 'Cyber Shadow [0100C1F0141AA000] writes huge amount of debug stuff into the logfile making the game running slow', 'Resolution Scaling not working on FEW 3 Hopes', 'bsd::RecvFrom: Ryujinx does not verify output buffer size before writing socket address', 'Controller Order Reverses Depending On If Controllers Are Powered On Before Or After Ryujinx is Opened', 'Super Smash Bros Ultimate performance degradation issue past 30 minutes of playtime', 'Audio issue with Taiko no Tatsujin: Nintendo Switch Version!', 'No Random Shapes in Snipperclips Plus', 'Regression: Flickering in Densha de Go introduced in 1.1.149', 'The game \"Re:ZERO -Starting Life in Another World- The Prophecy of the Throne\" only show a black screen, but I can hear the sound of the game and interact with it.', 'Feature Request: The ability to configure Hotkeys.', 'Add direct input support for racing wheels', 'Problem with gamepad PS3 Controller - SDL2 - No maping some buttons', 'Software Keyboard Pop-Up Will Not Disappear', 'Fatal error. Invalid Program: attempted to call a UnmanagedCallersOnly method from managed code.', 'Xbox and PlayStation Controllers not working together when using multiplayer controls', 'Ulaunch as a home dashboard', \"[Feature Request] Expose games' build ID on the UI or have an option to copy them for cheat management\", '[Feature Request] Prompt to create a user profile on new installations when default \"RyuPlayer 000000010000000100\" profile is detected', 'Flickering geometry on Xenoblade Chronicles Definitive Edition', 'PS5 Controller beeping', '[Feature Request] \"Partial\" VR support', 'When updating ryujinx ithin the program on linux the resulting binary is not execuatble', 'Controller error about setup / Fullscreen launch']\n"
     ]
    },
    {
     "name": "stdout",
     "output_type": "stream",
     "text": [
      "['Add subsections to the Design Patterns section']\n",
      "['Feature:custom mod use lua script', 'MuzzleOverlay should not cast shadow in WithShadows', 'Some sort of way to mass upload maps', 'Add a setting to select a default faction.', 'Refactor buttons to use GetCachedStatefulImage', 'Turn dropdowns into a widget', 'Map Editor Improvements', 'Lobby and Debug Menu options are unresponsive', 'Add option to mute/unmute notifications', 'Game out Of Sync error in TS (No sync report generated though?)', 'Connection, possible issues', 'Evaluate variable expressions once per actor', 'Player Mute / Disable chat button', 'Add cost to rearming', 'Ground units cannot rearm if structure footprint has local offset and uneven footprint', 'Ground units cannot rearm without Repairable: trait', 'WithTurretAimAnimation doesnt understand multiple AttackBases even if Conditioned', 'NullReferenceException @ hash_ChangesHealth', 'Player can assign target gem pit for harvester', 'Add Duration property to GrantCondition trait', 'Linux shortcut scripts only work with mono', 'Smallfix: up and down arrows in chat box to place cursor in the beginning or end of the message respectively.', 'Allied mission 06a: cripple Iron Curtain impossible on hard level', 'Add a selection modifier for areal vehicles similar to the lowered selection priority', \"OpenRA on MacOS won't detect original C&C disc\"]\n",
      "['guide on windows server', 'Docker Engine Service not visible and switch to windows containers is disabled', \"Source code was modified and doesn't match the PWD tutorial\", 'broken link to youtube in readme', \"Broken link to 'Install Docker Enterprise Engine on Windows Server'\", 'Dead link to \"Docker Tutorials from the Community\"', 'The metrics url should be fixed', 'Do we need to add environment variables to Jenkins?', 'dead link in https://github.com/docker/labs/blob/master/windows/windows-containers/README.md', 'Documentation of labs not update to date with content (sql-server part 1)', 'No replicas running in Docker for beginner chapter 3', 'FLASK-APP cats images not available ; link not working', 'Skkien / lab', 'New Dockerfile', 'need update , since this is 2020 ...', 'DockerCon2017: Javadebugging : Database Connection failing', \"Chapter 3: can't check version because container autostarts jshell\", 'Docker failed to start service utility VM with LCOW on windows server 2019', 'apt-get command not included', 'Vbox related issue', 'Accuracy w/r/t https://github.com/docker/labs/tree/master/security/capabilities', 'Translation', 'ERROR: filesystem layer verification failed for digest', 'link', 'Error while running docker-compose up while setting up In-container Java Development: Eclipse']\n",
      "['Stop excecution of WaitAndRetry policy on subsequent identical Exceptions', 'Regarding Multiple call sites', 'BrokenCircuitException should contain Context information', 'RetryForever - Documentation improvment?', 'How to access cancellation token from onRetryAsync?', 'RateLimiter improvements: 60 requests per minute, is not 1 request per second', 'Logical Timeout/Slow Response Policy?', 'TimeoutAsync does not propegate the correct cancellation token', 'Circuit not closing when used in a nested way under concurrent situations', 'WaitAndRetryForeverAsync with fire and forget tasks', 'WaitAndRetry fixed wait overload', 'Missing WaitAndRetryAsync() overload', 'Create policy at runtime based on url', 'WaitAndRetryAsync - on Retry Delegate - question.', 'Revise Avoid compiler gotchas mixing sync and async execution', 'How do you set up a HandleResult<Result<T>> for any T?', 'Serializable Policy', 'await ExecuteAndCapture with synchronous delegate', 'Wait and Retry - Dependent on Response Content in HttpClientFactory', 'Context values change unexpectedly', 'Use Polly with EF Core 3.1', 'Possibilty to return FinalHandledResult in WaitAndRetry instead of default value when policy terminates with an exception', 'Unable to pass context to OnHalfOpen in AsyncAdvancedCircuitBreakerTResultSyntax', 'Unhandled Stack Overflow Exception', 'Allow policy registries to be defined for keys of any type']\n",
      "['Does it make sense to have an external package dependency in a Core project?', 'Replace ValueObject implementation', 'LiteDB', 'Add Unit Of Work Above The Repository With Specifications', 'Show Value Objects in action', 'Add Identity/Auth to template', 'Add support for Visual Studio 2022', 'GitHub', 'Multi user project.', 'We should set up a discord or discussion area outside of Stackoverflow', 'Missing Solution Items', 'hello, everyone, I create a code generator for this CleanArchitecture project', 'Document How to Set Up and Run Migrations', 'Consolidate current pipelines into a single pipeline with additional features', 'Add instructions to run the sample for the first time']\n",
      "[\"Is there a way that Repository Pattern can update part of entity's properties, not all properties\", 'Bug: Different users can be register with the same e-mail address', 'where to register db dependency', 'How to remove authorization completely from hangfire dashboard', 'AbpMemoryCache slidingExpireTime not working', 'Please support Option withAssemblyName for AbpCacheData', 'How to use currency by localization in angular template?', 'TargetNotifiers should not use unlimited string', 'ObjectDisposedException in EventHandler while SettingManager.ChangeSettingForApplicationAsync()', 'How to mock Clock.Provider', 'Getting warning with Multilingual navigation.', 'Setting defined Entity<long> as multilingual entity blocks creating CreateMultiLingualMap context', 'Provide ability to set cache size limits and mark entries as permanent', 'Pull access denied for abp/host', 'ABP Boilerplate MVC whole page reload when you brwose through menu options along with scripts.', 'How to Tenant Selector with Identity Server ?', 'integrate linq2db', 'How to prevent Replay Attack on AspNetBoilerplate', 'Redis call infinite', 'How to translate dataannotations?', 'How can i get Notification CreatorUserId', 'Upgrade to AutoMapper v11', 'Integration of (blog-module) Tenant base in Asp.Net Zero', 'Add PathBase to services', 'What is the difference between this project and abpframework/abp?']\n",
      "['MSSQL database is not starting', 'Billing sync on Self-Hosted : Setting \"Billing sync Token\" fails with \"An error has occurred. An unhandled server error has occurred.\"', 'Potential errors in the project', \"EF: bitwarden-api: Collections not shown to users - query can't be translated\", 'Owner/admin of an organization cannot join another organization with the \"Single Organization\" policy enabled as an owner/admin', 'Permission error during Bitwarden startup in docker rootless', \"Self hosted: MSSQL nightly backup isn't create for non-default DB name\", 'You cannot import this much data at once.', 'Old images for bitwarden/setup are not removed by script', '[sec] Review network settings', '\"Create Account\" Button should be inactive/hidden when \"globalSettings__disableUserRegistration=true\"', 'Send file has filesize of 0 bytes, likely due to failed authentication', 'Live-sync is completely broken', 'Icon service explicitly does not work with non-default ports', '\"New login\" mail has wrong timezone', 'PostgreSQL as alternate database provider', 'Moving of read only organization collection items to different folder not possible', 'HTTP 500 on /api/two-factor/yubikey for Yubico OTP keys \"typed\" in non-QWERTY layout', 'TOTP secrets should be normalised', '\"Resource not found\" trying to share a login to organization']\n",
      "['RPM versions unavailable for CentOS 7', 'Mono Debian Bullseye XFCE - System.ArgumentException: A null reference or invalid value was found [GDI+ status: InvalidParameter]', 'Apparent deadlock with \"mono_loader_lock\" in multiple crash reports from released application', 'Mono.Security.Interface.TlsException when reopen Microsoft.Azure.Devices.Client.DeviceClient 1.41.0', 'Mono on RaspbianOS not using selected font', 'LLVM AOT fails.', 'Remove the workaround for llvm.17868?', 'Queations about Mono.Data.Sqlite encryption', 'compile mono in cygwin, python installed directory path has space.', 'Replace character function not working in SubtitleEdit 3.6.6', \"mkbundle: --custom-main doesn't work on Linux\", 'Update NuGet to latest 6.x stable', 'What is required to add support for a new platform to Mono?', 'Error upgrading mono on Ubuntu ARM7', \"Can't run VS for Mac projects on Mac OS Monterey m1\", 'Text cursor blinking far too fast in SubtitleEdit', 'mono-docker-app crash issue', 'System.Windows.Forms.SendKeys.Send does not work on windows 64 bits', 'font en utf8', '‘--with-core=only’ does not work', 'Get method signature location (line/column numbers) through mono.cecil', 'wrong parameter', 'Cannot get mscorlib.dll under /lib/mono', 'Invoking function pointer with type argument of Class that calls Environment.StackTrace fails', 'The test here is missing System.Runtime.Serialization.dll']\n"
     ]
    },
    {
     "name": "stdout",
     "output_type": "stream",
     "text": [
      "['Modify the template to only include solution name in the DLLs and not the namespaces', 'Working with ApiAuthorizationDbContext using EFCore extensions and Worker Service.', 'Extending Identity within a Clean Architecture solution', '[Feature request] Use fluent validation rules to define swagger schema']\n"
     ]
    },
    {
     "ename": "KeyboardInterrupt",
     "evalue": "",
     "output_type": "error",
     "traceback": [
      "\u001b[1;31m---------------------------------------------------------------------------\u001b[0m",
      "\u001b[1;31mKeyboardInterrupt\u001b[0m                         Traceback (most recent call last)",
      "\u001b[1;32m~\\AppData\\Local\\Temp/ipykernel_1688/1479076323.py\u001b[0m in \u001b[0;36m<module>\u001b[1;34m\u001b[0m\n\u001b[0;32m      1\u001b[0m \u001b[1;32mfor\u001b[0m \u001b[0mi\u001b[0m \u001b[1;32min\u001b[0m \u001b[0mlanglinksArr\u001b[0m\u001b[1;33m:\u001b[0m\u001b[1;33m\u001b[0m\u001b[1;33m\u001b[0m\u001b[0m\n\u001b[1;32m----> 2\u001b[1;33m     \u001b[0missue\u001b[0m\u001b[1;33m(\u001b[0m\u001b[0mi\u001b[0m\u001b[1;33m)\u001b[0m\u001b[1;33m\u001b[0m\u001b[1;33m\u001b[0m\u001b[0m\n\u001b[0m",
      "\u001b[1;32m~\\AppData\\Local\\Temp/ipykernel_1688/2632839782.py\u001b[0m in \u001b[0;36missue\u001b[1;34m(url)\u001b[0m\n\u001b[0;32m     46\u001b[0m \u001b[1;33m\u001b[0m\u001b[0m\n\u001b[0;32m     47\u001b[0m     \u001b[1;32mfor\u001b[0m \u001b[0mi\u001b[0m \u001b[1;32min\u001b[0m \u001b[0marr2\u001b[0m\u001b[1;33m:\u001b[0m\u001b[1;33m\u001b[0m\u001b[1;33m\u001b[0m\u001b[0m\n\u001b[1;32m---> 48\u001b[1;33m         \u001b[0missue_finder\u001b[0m\u001b[1;33m(\u001b[0m\u001b[0mi\u001b[0m\u001b[1;33m)\u001b[0m\u001b[1;33m\u001b[0m\u001b[1;33m\u001b[0m\u001b[0m\n\u001b[0m",
      "\u001b[1;32m~\\AppData\\Local\\Temp/ipykernel_1688/3357019017.py\u001b[0m in \u001b[0;36missue_finder\u001b[1;34m(url)\u001b[0m\n\u001b[0;32m      1\u001b[0m \u001b[1;32mdef\u001b[0m \u001b[0missue_finder\u001b[0m\u001b[1;33m(\u001b[0m\u001b[0murl\u001b[0m\u001b[1;33m)\u001b[0m\u001b[1;33m:\u001b[0m\u001b[1;33m\u001b[0m\u001b[1;33m\u001b[0m\u001b[0m\n\u001b[0;32m      2\u001b[0m     \u001b[0mdriver\u001b[0m \u001b[1;33m=\u001b[0m \u001b[0mwebdriver\u001b[0m\u001b[1;33m.\u001b[0m\u001b[0mFirefox\u001b[0m\u001b[1;33m(\u001b[0m\u001b[0mexecutable_path\u001b[0m\u001b[1;33m=\u001b[0m\u001b[1;34mr'C:\\Users\\abhis\\OneDrive\\Desktop\\scrapping_python\\linkedin_scarp\\geckodriver.exe'\u001b[0m\u001b[1;33m)\u001b[0m\u001b[1;33m\u001b[0m\u001b[1;33m\u001b[0m\u001b[0m\n\u001b[1;32m----> 3\u001b[1;33m     \u001b[0mdriver\u001b[0m\u001b[1;33m.\u001b[0m\u001b[0mget\u001b[0m\u001b[1;33m(\u001b[0m\u001b[0murl\u001b[0m\u001b[1;33m)\u001b[0m\u001b[1;33m\u001b[0m\u001b[1;33m\u001b[0m\u001b[0m\n\u001b[0m\u001b[0;32m      4\u001b[0m     \u001b[0msam\u001b[0m \u001b[1;33m=\u001b[0m \u001b[0mdriver\u001b[0m\u001b[1;33m.\u001b[0m\u001b[0mfind_elements\u001b[0m\u001b[1;33m(\u001b[0m\u001b[0mBy\u001b[0m\u001b[1;33m.\u001b[0m\u001b[0mCSS_SELECTOR\u001b[0m\u001b[1;33m,\u001b[0m \u001b[1;34m\"a.Link--primary.v-align-middle\"\u001b[0m\u001b[1;33m)\u001b[0m\u001b[1;33m\u001b[0m\u001b[1;33m\u001b[0m\u001b[0m\n\u001b[0;32m      5\u001b[0m     \u001b[0mfindLinkArr\u001b[0m \u001b[1;33m=\u001b[0m \u001b[1;33m[\u001b[0m\u001b[1;33m]\u001b[0m\u001b[1;33m\u001b[0m\u001b[1;33m\u001b[0m\u001b[0m\n",
      "\u001b[1;32mD:\\anaconda\\lib\\site-packages\\selenium\\webdriver\\remote\\webdriver.py\u001b[0m in \u001b[0;36mget\u001b[1;34m(self, url)\u001b[0m\n\u001b[0;32m    440\u001b[0m         \u001b[0mLoads\u001b[0m \u001b[0ma\u001b[0m \u001b[0mweb\u001b[0m \u001b[0mpage\u001b[0m \u001b[1;32min\u001b[0m \u001b[0mthe\u001b[0m \u001b[0mcurrent\u001b[0m \u001b[0mbrowser\u001b[0m \u001b[0msession\u001b[0m\u001b[1;33m.\u001b[0m\u001b[1;33m\u001b[0m\u001b[1;33m\u001b[0m\u001b[0m\n\u001b[0;32m    441\u001b[0m         \"\"\"\n\u001b[1;32m--> 442\u001b[1;33m         \u001b[0mself\u001b[0m\u001b[1;33m.\u001b[0m\u001b[0mexecute\u001b[0m\u001b[1;33m(\u001b[0m\u001b[0mCommand\u001b[0m\u001b[1;33m.\u001b[0m\u001b[0mGET\u001b[0m\u001b[1;33m,\u001b[0m \u001b[1;33m{\u001b[0m\u001b[1;34m'url'\u001b[0m\u001b[1;33m:\u001b[0m \u001b[0murl\u001b[0m\u001b[1;33m}\u001b[0m\u001b[1;33m)\u001b[0m\u001b[1;33m\u001b[0m\u001b[1;33m\u001b[0m\u001b[0m\n\u001b[0m\u001b[0;32m    443\u001b[0m \u001b[1;33m\u001b[0m\u001b[0m\n\u001b[0;32m    444\u001b[0m     \u001b[1;33m@\u001b[0m\u001b[0mproperty\u001b[0m\u001b[1;33m\u001b[0m\u001b[1;33m\u001b[0m\u001b[0m\n",
      "\u001b[1;32mD:\\anaconda\\lib\\site-packages\\selenium\\webdriver\\remote\\webdriver.py\u001b[0m in \u001b[0;36mexecute\u001b[1;34m(self, driver_command, params)\u001b[0m\n\u001b[0;32m    426\u001b[0m \u001b[1;33m\u001b[0m\u001b[0m\n\u001b[0;32m    427\u001b[0m         \u001b[0mparams\u001b[0m \u001b[1;33m=\u001b[0m \u001b[0mself\u001b[0m\u001b[1;33m.\u001b[0m\u001b[0m_wrap_value\u001b[0m\u001b[1;33m(\u001b[0m\u001b[0mparams\u001b[0m\u001b[1;33m)\u001b[0m\u001b[1;33m\u001b[0m\u001b[1;33m\u001b[0m\u001b[0m\n\u001b[1;32m--> 428\u001b[1;33m         \u001b[0mresponse\u001b[0m \u001b[1;33m=\u001b[0m \u001b[0mself\u001b[0m\u001b[1;33m.\u001b[0m\u001b[0mcommand_executor\u001b[0m\u001b[1;33m.\u001b[0m\u001b[0mexecute\u001b[0m\u001b[1;33m(\u001b[0m\u001b[0mdriver_command\u001b[0m\u001b[1;33m,\u001b[0m \u001b[0mparams\u001b[0m\u001b[1;33m)\u001b[0m\u001b[1;33m\u001b[0m\u001b[1;33m\u001b[0m\u001b[0m\n\u001b[0m\u001b[0;32m    429\u001b[0m         \u001b[1;32mif\u001b[0m \u001b[0mresponse\u001b[0m\u001b[1;33m:\u001b[0m\u001b[1;33m\u001b[0m\u001b[1;33m\u001b[0m\u001b[0m\n\u001b[0;32m    430\u001b[0m             \u001b[0mself\u001b[0m\u001b[1;33m.\u001b[0m\u001b[0merror_handler\u001b[0m\u001b[1;33m.\u001b[0m\u001b[0mcheck_response\u001b[0m\u001b[1;33m(\u001b[0m\u001b[0mresponse\u001b[0m\u001b[1;33m)\u001b[0m\u001b[1;33m\u001b[0m\u001b[1;33m\u001b[0m\u001b[0m\n",
      "\u001b[1;32mD:\\anaconda\\lib\\site-packages\\selenium\\webdriver\\remote\\remote_connection.py\u001b[0m in \u001b[0;36mexecute\u001b[1;34m(self, command, params)\u001b[0m\n\u001b[0;32m    345\u001b[0m         \u001b[0mdata\u001b[0m \u001b[1;33m=\u001b[0m \u001b[0mutils\u001b[0m\u001b[1;33m.\u001b[0m\u001b[0mdump_json\u001b[0m\u001b[1;33m(\u001b[0m\u001b[0mparams\u001b[0m\u001b[1;33m)\u001b[0m\u001b[1;33m\u001b[0m\u001b[1;33m\u001b[0m\u001b[0m\n\u001b[0;32m    346\u001b[0m         \u001b[0murl\u001b[0m \u001b[1;33m=\u001b[0m \u001b[1;34mf\"{self._url}{path}\"\u001b[0m\u001b[1;33m\u001b[0m\u001b[1;33m\u001b[0m\u001b[0m\n\u001b[1;32m--> 347\u001b[1;33m         \u001b[1;32mreturn\u001b[0m \u001b[0mself\u001b[0m\u001b[1;33m.\u001b[0m\u001b[0m_request\u001b[0m\u001b[1;33m(\u001b[0m\u001b[0mcommand_info\u001b[0m\u001b[1;33m[\u001b[0m\u001b[1;36m0\u001b[0m\u001b[1;33m]\u001b[0m\u001b[1;33m,\u001b[0m \u001b[0murl\u001b[0m\u001b[1;33m,\u001b[0m \u001b[0mbody\u001b[0m\u001b[1;33m=\u001b[0m\u001b[0mdata\u001b[0m\u001b[1;33m)\u001b[0m\u001b[1;33m\u001b[0m\u001b[1;33m\u001b[0m\u001b[0m\n\u001b[0m\u001b[0;32m    348\u001b[0m \u001b[1;33m\u001b[0m\u001b[0m\n\u001b[0;32m    349\u001b[0m     \u001b[1;32mdef\u001b[0m \u001b[0m_request\u001b[0m\u001b[1;33m(\u001b[0m\u001b[0mself\u001b[0m\u001b[1;33m,\u001b[0m \u001b[0mmethod\u001b[0m\u001b[1;33m,\u001b[0m \u001b[0murl\u001b[0m\u001b[1;33m,\u001b[0m \u001b[0mbody\u001b[0m\u001b[1;33m=\u001b[0m\u001b[1;32mNone\u001b[0m\u001b[1;33m)\u001b[0m\u001b[1;33m:\u001b[0m\u001b[1;33m\u001b[0m\u001b[1;33m\u001b[0m\u001b[0m\n",
      "\u001b[1;32mD:\\anaconda\\lib\\site-packages\\selenium\\webdriver\\remote\\remote_connection.py\u001b[0m in \u001b[0;36m_request\u001b[1;34m(self, method, url, body)\u001b[0m\n\u001b[0;32m    367\u001b[0m \u001b[1;33m\u001b[0m\u001b[0m\n\u001b[0;32m    368\u001b[0m         \u001b[1;32mif\u001b[0m \u001b[0mself\u001b[0m\u001b[1;33m.\u001b[0m\u001b[0mkeep_alive\u001b[0m\u001b[1;33m:\u001b[0m\u001b[1;33m\u001b[0m\u001b[1;33m\u001b[0m\u001b[0m\n\u001b[1;32m--> 369\u001b[1;33m             \u001b[0mresponse\u001b[0m \u001b[1;33m=\u001b[0m \u001b[0mself\u001b[0m\u001b[1;33m.\u001b[0m\u001b[0m_conn\u001b[0m\u001b[1;33m.\u001b[0m\u001b[0mrequest\u001b[0m\u001b[1;33m(\u001b[0m\u001b[0mmethod\u001b[0m\u001b[1;33m,\u001b[0m \u001b[0murl\u001b[0m\u001b[1;33m,\u001b[0m \u001b[0mbody\u001b[0m\u001b[1;33m=\u001b[0m\u001b[0mbody\u001b[0m\u001b[1;33m,\u001b[0m \u001b[0mheaders\u001b[0m\u001b[1;33m=\u001b[0m\u001b[0mheaders\u001b[0m\u001b[1;33m)\u001b[0m\u001b[1;33m\u001b[0m\u001b[1;33m\u001b[0m\u001b[0m\n\u001b[0m\u001b[0;32m    370\u001b[0m             \u001b[0mstatuscode\u001b[0m \u001b[1;33m=\u001b[0m \u001b[0mresponse\u001b[0m\u001b[1;33m.\u001b[0m\u001b[0mstatus\u001b[0m\u001b[1;33m\u001b[0m\u001b[1;33m\u001b[0m\u001b[0m\n\u001b[0;32m    371\u001b[0m         \u001b[1;32melse\u001b[0m\u001b[1;33m:\u001b[0m\u001b[1;33m\u001b[0m\u001b[1;33m\u001b[0m\u001b[0m\n",
      "\u001b[1;32mD:\\anaconda\\lib\\site-packages\\urllib3\\request.py\u001b[0m in \u001b[0;36mrequest\u001b[1;34m(self, method, url, fields, headers, **urlopen_kw)\u001b[0m\n\u001b[0;32m     76\u001b[0m             )\n\u001b[0;32m     77\u001b[0m         \u001b[1;32melse\u001b[0m\u001b[1;33m:\u001b[0m\u001b[1;33m\u001b[0m\u001b[1;33m\u001b[0m\u001b[0m\n\u001b[1;32m---> 78\u001b[1;33m             return self.request_encode_body(\n\u001b[0m\u001b[0;32m     79\u001b[0m                 \u001b[0mmethod\u001b[0m\u001b[1;33m,\u001b[0m \u001b[0murl\u001b[0m\u001b[1;33m,\u001b[0m \u001b[0mfields\u001b[0m\u001b[1;33m=\u001b[0m\u001b[0mfields\u001b[0m\u001b[1;33m,\u001b[0m \u001b[0mheaders\u001b[0m\u001b[1;33m=\u001b[0m\u001b[0mheaders\u001b[0m\u001b[1;33m,\u001b[0m \u001b[1;33m**\u001b[0m\u001b[0murlopen_kw\u001b[0m\u001b[1;33m\u001b[0m\u001b[1;33m\u001b[0m\u001b[0m\n\u001b[0;32m     80\u001b[0m             )\n",
      "\u001b[1;32mD:\\anaconda\\lib\\site-packages\\urllib3\\request.py\u001b[0m in \u001b[0;36mrequest_encode_body\u001b[1;34m(self, method, url, fields, headers, encode_multipart, multipart_boundary, **urlopen_kw)\u001b[0m\n\u001b[0;32m    168\u001b[0m         \u001b[0mextra_kw\u001b[0m\u001b[1;33m.\u001b[0m\u001b[0mupdate\u001b[0m\u001b[1;33m(\u001b[0m\u001b[0murlopen_kw\u001b[0m\u001b[1;33m)\u001b[0m\u001b[1;33m\u001b[0m\u001b[1;33m\u001b[0m\u001b[0m\n\u001b[0;32m    169\u001b[0m \u001b[1;33m\u001b[0m\u001b[0m\n\u001b[1;32m--> 170\u001b[1;33m         \u001b[1;32mreturn\u001b[0m \u001b[0mself\u001b[0m\u001b[1;33m.\u001b[0m\u001b[0murlopen\u001b[0m\u001b[1;33m(\u001b[0m\u001b[0mmethod\u001b[0m\u001b[1;33m,\u001b[0m \u001b[0murl\u001b[0m\u001b[1;33m,\u001b[0m \u001b[1;33m**\u001b[0m\u001b[0mextra_kw\u001b[0m\u001b[1;33m)\u001b[0m\u001b[1;33m\u001b[0m\u001b[1;33m\u001b[0m\u001b[0m\n\u001b[0m",
      "\u001b[1;32mD:\\anaconda\\lib\\site-packages\\urllib3\\poolmanager.py\u001b[0m in \u001b[0;36murlopen\u001b[1;34m(self, method, url, redirect, **kw)\u001b[0m\n\u001b[0;32m    373\u001b[0m             \u001b[0mresponse\u001b[0m \u001b[1;33m=\u001b[0m \u001b[0mconn\u001b[0m\u001b[1;33m.\u001b[0m\u001b[0murlopen\u001b[0m\u001b[1;33m(\u001b[0m\u001b[0mmethod\u001b[0m\u001b[1;33m,\u001b[0m \u001b[0murl\u001b[0m\u001b[1;33m,\u001b[0m \u001b[1;33m**\u001b[0m\u001b[0mkw\u001b[0m\u001b[1;33m)\u001b[0m\u001b[1;33m\u001b[0m\u001b[1;33m\u001b[0m\u001b[0m\n\u001b[0;32m    374\u001b[0m         \u001b[1;32melse\u001b[0m\u001b[1;33m:\u001b[0m\u001b[1;33m\u001b[0m\u001b[1;33m\u001b[0m\u001b[0m\n\u001b[1;32m--> 375\u001b[1;33m             \u001b[0mresponse\u001b[0m \u001b[1;33m=\u001b[0m \u001b[0mconn\u001b[0m\u001b[1;33m.\u001b[0m\u001b[0murlopen\u001b[0m\u001b[1;33m(\u001b[0m\u001b[0mmethod\u001b[0m\u001b[1;33m,\u001b[0m \u001b[0mu\u001b[0m\u001b[1;33m.\u001b[0m\u001b[0mrequest_uri\u001b[0m\u001b[1;33m,\u001b[0m \u001b[1;33m**\u001b[0m\u001b[0mkw\u001b[0m\u001b[1;33m)\u001b[0m\u001b[1;33m\u001b[0m\u001b[1;33m\u001b[0m\u001b[0m\n\u001b[0m\u001b[0;32m    376\u001b[0m \u001b[1;33m\u001b[0m\u001b[0m\n\u001b[0;32m    377\u001b[0m         \u001b[0mredirect_location\u001b[0m \u001b[1;33m=\u001b[0m \u001b[0mredirect\u001b[0m \u001b[1;32mand\u001b[0m \u001b[0mresponse\u001b[0m\u001b[1;33m.\u001b[0m\u001b[0mget_redirect_location\u001b[0m\u001b[1;33m(\u001b[0m\u001b[1;33m)\u001b[0m\u001b[1;33m\u001b[0m\u001b[1;33m\u001b[0m\u001b[0m\n",
      "\u001b[1;32mD:\\anaconda\\lib\\site-packages\\urllib3\\connectionpool.py\u001b[0m in \u001b[0;36murlopen\u001b[1;34m(self, method, url, body, headers, retries, redirect, assert_same_host, timeout, pool_timeout, release_conn, chunked, body_pos, **response_kw)\u001b[0m\n\u001b[0;32m    697\u001b[0m \u001b[1;33m\u001b[0m\u001b[0m\n\u001b[0;32m    698\u001b[0m             \u001b[1;31m# Make the request on the httplib connection object.\u001b[0m\u001b[1;33m\u001b[0m\u001b[1;33m\u001b[0m\u001b[0m\n\u001b[1;32m--> 699\u001b[1;33m             httplib_response = self._make_request(\n\u001b[0m\u001b[0;32m    700\u001b[0m                 \u001b[0mconn\u001b[0m\u001b[1;33m,\u001b[0m\u001b[1;33m\u001b[0m\u001b[1;33m\u001b[0m\u001b[0m\n\u001b[0;32m    701\u001b[0m                 \u001b[0mmethod\u001b[0m\u001b[1;33m,\u001b[0m\u001b[1;33m\u001b[0m\u001b[1;33m\u001b[0m\u001b[0m\n",
      "\u001b[1;32mD:\\anaconda\\lib\\site-packages\\urllib3\\connectionpool.py\u001b[0m in \u001b[0;36m_make_request\u001b[1;34m(self, conn, method, url, timeout, chunked, **httplib_request_kw)\u001b[0m\n\u001b[0;32m    443\u001b[0m                     \u001b[1;31m# Python 3 (including for exceptions like SystemExit).\u001b[0m\u001b[1;33m\u001b[0m\u001b[1;33m\u001b[0m\u001b[0m\n\u001b[0;32m    444\u001b[0m                     \u001b[1;31m# Otherwise it looks like a bug in the code.\u001b[0m\u001b[1;33m\u001b[0m\u001b[1;33m\u001b[0m\u001b[0m\n\u001b[1;32m--> 445\u001b[1;33m                     \u001b[0msix\u001b[0m\u001b[1;33m.\u001b[0m\u001b[0mraise_from\u001b[0m\u001b[1;33m(\u001b[0m\u001b[0me\u001b[0m\u001b[1;33m,\u001b[0m \u001b[1;32mNone\u001b[0m\u001b[1;33m)\u001b[0m\u001b[1;33m\u001b[0m\u001b[1;33m\u001b[0m\u001b[0m\n\u001b[0m\u001b[0;32m    446\u001b[0m         \u001b[1;32mexcept\u001b[0m \u001b[1;33m(\u001b[0m\u001b[0mSocketTimeout\u001b[0m\u001b[1;33m,\u001b[0m \u001b[0mBaseSSLError\u001b[0m\u001b[1;33m,\u001b[0m \u001b[0mSocketError\u001b[0m\u001b[1;33m)\u001b[0m \u001b[1;32mas\u001b[0m \u001b[0me\u001b[0m\u001b[1;33m:\u001b[0m\u001b[1;33m\u001b[0m\u001b[1;33m\u001b[0m\u001b[0m\n\u001b[0;32m    447\u001b[0m             \u001b[0mself\u001b[0m\u001b[1;33m.\u001b[0m\u001b[0m_raise_timeout\u001b[0m\u001b[1;33m(\u001b[0m\u001b[0merr\u001b[0m\u001b[1;33m=\u001b[0m\u001b[0me\u001b[0m\u001b[1;33m,\u001b[0m \u001b[0murl\u001b[0m\u001b[1;33m=\u001b[0m\u001b[0murl\u001b[0m\u001b[1;33m,\u001b[0m \u001b[0mtimeout_value\u001b[0m\u001b[1;33m=\u001b[0m\u001b[0mread_timeout\u001b[0m\u001b[1;33m)\u001b[0m\u001b[1;33m\u001b[0m\u001b[1;33m\u001b[0m\u001b[0m\n",
      "\u001b[1;32mD:\\anaconda\\lib\\site-packages\\urllib3\\packages\\six.py\u001b[0m in \u001b[0;36mraise_from\u001b[1;34m(value, from_value)\u001b[0m\n",
      "\u001b[1;32mD:\\anaconda\\lib\\site-packages\\urllib3\\connectionpool.py\u001b[0m in \u001b[0;36m_make_request\u001b[1;34m(self, conn, method, url, timeout, chunked, **httplib_request_kw)\u001b[0m\n\u001b[0;32m    438\u001b[0m                 \u001b[1;31m# Python 3\u001b[0m\u001b[1;33m\u001b[0m\u001b[1;33m\u001b[0m\u001b[0m\n\u001b[0;32m    439\u001b[0m                 \u001b[1;32mtry\u001b[0m\u001b[1;33m:\u001b[0m\u001b[1;33m\u001b[0m\u001b[1;33m\u001b[0m\u001b[0m\n\u001b[1;32m--> 440\u001b[1;33m                     \u001b[0mhttplib_response\u001b[0m \u001b[1;33m=\u001b[0m \u001b[0mconn\u001b[0m\u001b[1;33m.\u001b[0m\u001b[0mgetresponse\u001b[0m\u001b[1;33m(\u001b[0m\u001b[1;33m)\u001b[0m\u001b[1;33m\u001b[0m\u001b[1;33m\u001b[0m\u001b[0m\n\u001b[0m\u001b[0;32m    441\u001b[0m                 \u001b[1;32mexcept\u001b[0m \u001b[0mBaseException\u001b[0m \u001b[1;32mas\u001b[0m \u001b[0me\u001b[0m\u001b[1;33m:\u001b[0m\u001b[1;33m\u001b[0m\u001b[1;33m\u001b[0m\u001b[0m\n\u001b[0;32m    442\u001b[0m                     \u001b[1;31m# Remove the TypeError from the exception chain in\u001b[0m\u001b[1;33m\u001b[0m\u001b[1;33m\u001b[0m\u001b[0m\n",
      "\u001b[1;32mD:\\anaconda\\lib\\http\\client.py\u001b[0m in \u001b[0;36mgetresponse\u001b[1;34m(self)\u001b[0m\n\u001b[0;32m   1369\u001b[0m         \u001b[1;32mtry\u001b[0m\u001b[1;33m:\u001b[0m\u001b[1;33m\u001b[0m\u001b[1;33m\u001b[0m\u001b[0m\n\u001b[0;32m   1370\u001b[0m             \u001b[1;32mtry\u001b[0m\u001b[1;33m:\u001b[0m\u001b[1;33m\u001b[0m\u001b[1;33m\u001b[0m\u001b[0m\n\u001b[1;32m-> 1371\u001b[1;33m                 \u001b[0mresponse\u001b[0m\u001b[1;33m.\u001b[0m\u001b[0mbegin\u001b[0m\u001b[1;33m(\u001b[0m\u001b[1;33m)\u001b[0m\u001b[1;33m\u001b[0m\u001b[1;33m\u001b[0m\u001b[0m\n\u001b[0m\u001b[0;32m   1372\u001b[0m             \u001b[1;32mexcept\u001b[0m \u001b[0mConnectionError\u001b[0m\u001b[1;33m:\u001b[0m\u001b[1;33m\u001b[0m\u001b[1;33m\u001b[0m\u001b[0m\n\u001b[0;32m   1373\u001b[0m                 \u001b[0mself\u001b[0m\u001b[1;33m.\u001b[0m\u001b[0mclose\u001b[0m\u001b[1;33m(\u001b[0m\u001b[1;33m)\u001b[0m\u001b[1;33m\u001b[0m\u001b[1;33m\u001b[0m\u001b[0m\n",
      "\u001b[1;32mD:\\anaconda\\lib\\http\\client.py\u001b[0m in \u001b[0;36mbegin\u001b[1;34m(self)\u001b[0m\n\u001b[0;32m    317\u001b[0m         \u001b[1;31m# read until we get a non-100 response\u001b[0m\u001b[1;33m\u001b[0m\u001b[1;33m\u001b[0m\u001b[0m\n\u001b[0;32m    318\u001b[0m         \u001b[1;32mwhile\u001b[0m \u001b[1;32mTrue\u001b[0m\u001b[1;33m:\u001b[0m\u001b[1;33m\u001b[0m\u001b[1;33m\u001b[0m\u001b[0m\n\u001b[1;32m--> 319\u001b[1;33m             \u001b[0mversion\u001b[0m\u001b[1;33m,\u001b[0m \u001b[0mstatus\u001b[0m\u001b[1;33m,\u001b[0m \u001b[0mreason\u001b[0m \u001b[1;33m=\u001b[0m \u001b[0mself\u001b[0m\u001b[1;33m.\u001b[0m\u001b[0m_read_status\u001b[0m\u001b[1;33m(\u001b[0m\u001b[1;33m)\u001b[0m\u001b[1;33m\u001b[0m\u001b[1;33m\u001b[0m\u001b[0m\n\u001b[0m\u001b[0;32m    320\u001b[0m             \u001b[1;32mif\u001b[0m \u001b[0mstatus\u001b[0m \u001b[1;33m!=\u001b[0m \u001b[0mCONTINUE\u001b[0m\u001b[1;33m:\u001b[0m\u001b[1;33m\u001b[0m\u001b[1;33m\u001b[0m\u001b[0m\n\u001b[0;32m    321\u001b[0m                 \u001b[1;32mbreak\u001b[0m\u001b[1;33m\u001b[0m\u001b[1;33m\u001b[0m\u001b[0m\n",
      "\u001b[1;32mD:\\anaconda\\lib\\http\\client.py\u001b[0m in \u001b[0;36m_read_status\u001b[1;34m(self)\u001b[0m\n\u001b[0;32m    278\u001b[0m \u001b[1;33m\u001b[0m\u001b[0m\n\u001b[0;32m    279\u001b[0m     \u001b[1;32mdef\u001b[0m \u001b[0m_read_status\u001b[0m\u001b[1;33m(\u001b[0m\u001b[0mself\u001b[0m\u001b[1;33m)\u001b[0m\u001b[1;33m:\u001b[0m\u001b[1;33m\u001b[0m\u001b[1;33m\u001b[0m\u001b[0m\n\u001b[1;32m--> 280\u001b[1;33m         \u001b[0mline\u001b[0m \u001b[1;33m=\u001b[0m \u001b[0mstr\u001b[0m\u001b[1;33m(\u001b[0m\u001b[0mself\u001b[0m\u001b[1;33m.\u001b[0m\u001b[0mfp\u001b[0m\u001b[1;33m.\u001b[0m\u001b[0mreadline\u001b[0m\u001b[1;33m(\u001b[0m\u001b[0m_MAXLINE\u001b[0m \u001b[1;33m+\u001b[0m \u001b[1;36m1\u001b[0m\u001b[1;33m)\u001b[0m\u001b[1;33m,\u001b[0m \u001b[1;34m\"iso-8859-1\"\u001b[0m\u001b[1;33m)\u001b[0m\u001b[1;33m\u001b[0m\u001b[1;33m\u001b[0m\u001b[0m\n\u001b[0m\u001b[0;32m    281\u001b[0m         \u001b[1;32mif\u001b[0m \u001b[0mlen\u001b[0m\u001b[1;33m(\u001b[0m\u001b[0mline\u001b[0m\u001b[1;33m)\u001b[0m \u001b[1;33m>\u001b[0m \u001b[0m_MAXLINE\u001b[0m\u001b[1;33m:\u001b[0m\u001b[1;33m\u001b[0m\u001b[1;33m\u001b[0m\u001b[0m\n\u001b[0;32m    282\u001b[0m             \u001b[1;32mraise\u001b[0m \u001b[0mLineTooLong\u001b[0m\u001b[1;33m(\u001b[0m\u001b[1;34m\"status line\"\u001b[0m\u001b[1;33m)\u001b[0m\u001b[1;33m\u001b[0m\u001b[1;33m\u001b[0m\u001b[0m\n",
      "\u001b[1;32mD:\\anaconda\\lib\\socket.py\u001b[0m in \u001b[0;36mreadinto\u001b[1;34m(self, b)\u001b[0m\n\u001b[0;32m    702\u001b[0m         \u001b[1;32mwhile\u001b[0m \u001b[1;32mTrue\u001b[0m\u001b[1;33m:\u001b[0m\u001b[1;33m\u001b[0m\u001b[1;33m\u001b[0m\u001b[0m\n\u001b[0;32m    703\u001b[0m             \u001b[1;32mtry\u001b[0m\u001b[1;33m:\u001b[0m\u001b[1;33m\u001b[0m\u001b[1;33m\u001b[0m\u001b[0m\n\u001b[1;32m--> 704\u001b[1;33m                 \u001b[1;32mreturn\u001b[0m \u001b[0mself\u001b[0m\u001b[1;33m.\u001b[0m\u001b[0m_sock\u001b[0m\u001b[1;33m.\u001b[0m\u001b[0mrecv_into\u001b[0m\u001b[1;33m(\u001b[0m\u001b[0mb\u001b[0m\u001b[1;33m)\u001b[0m\u001b[1;33m\u001b[0m\u001b[1;33m\u001b[0m\u001b[0m\n\u001b[0m\u001b[0;32m    705\u001b[0m             \u001b[1;32mexcept\u001b[0m \u001b[0mtimeout\u001b[0m\u001b[1;33m:\u001b[0m\u001b[1;33m\u001b[0m\u001b[1;33m\u001b[0m\u001b[0m\n\u001b[0;32m    706\u001b[0m                 \u001b[0mself\u001b[0m\u001b[1;33m.\u001b[0m\u001b[0m_timeout_occurred\u001b[0m \u001b[1;33m=\u001b[0m \u001b[1;32mTrue\u001b[0m\u001b[1;33m\u001b[0m\u001b[1;33m\u001b[0m\u001b[0m\n",
      "\u001b[1;31mKeyboardInterrupt\u001b[0m: "
     ]
    }
   ],
   "source": [
    "for i in langlinksArr:\n",
    "    issue(i)"
   ]
  },
  {
   "cell_type": "code",
   "execution_count": 5,
   "id": "65e1c04b",
   "metadata": {},
   "outputs": [
    {
     "name": "stdout",
     "output_type": "stream",
     "text": [
      "[]\n"
     ]
    }
   ],
   "source": []
  },
  {
   "cell_type": "code",
   "execution_count": null,
   "id": "5741ba20",
   "metadata": {},
   "outputs": [],
   "source": []
  }
 ],
 "metadata": {
  "kernelspec": {
   "display_name": "Python 3.10.4 64-bit",
   "language": "python",
   "name": "python3"
  },
  "language_info": {
   "codemirror_mode": {
    "name": "ipython",
    "version": 3
   },
   "file_extension": ".py",
   "mimetype": "text/x-python",
   "name": "python",
   "nbconvert_exporter": "python",
   "pygments_lexer": "ipython3",
   "version": "3.10.4"
  },
  "vscode": {
   "interpreter": {
    "hash": "3ffbf0abc1ab77b078092e586942f471caceca6a6a6c676a4d26e0d52144ddd1"
   }
  }
 },
 "nbformat": 4,
 "nbformat_minor": 5
}
